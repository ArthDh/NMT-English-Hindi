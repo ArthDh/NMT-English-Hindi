{
 "cells": [
  {
   "cell_type": "code",
   "execution_count": 1,
   "metadata": {},
   "outputs": [
    {
     "name": "stderr",
     "output_type": "stream",
     "text": [
      "/Library/Frameworks/Python.framework/Versions/3.6/lib/python3.6/site-packages/h5py/__init__.py:36: FutureWarning: Conversion of the second argument of issubdtype from `float` to `np.floating` is deprecated. In future, it will be treated as `np.float64 == np.dtype(float).type`.\n",
      "  from ._conv import register_converters as _register_converters\n",
      "Using TensorFlow backend.\n"
     ]
    }
   ],
   "source": [
    "# Using Keras functional model\n",
    "from keras.models import Model\n",
    "from keras.layers import Input, Dense, LSTM\n",
    "# Used for feeding data in Input \n",
    "import numpy as np"
   ]
  },
  {
   "cell_type": "code",
   "execution_count": 2,
   "metadata": {
    "collapsed": true
   },
   "outputs": [],
   "source": [
    "batch_size =64 # Batchsize for network\n",
    "epochs = 100 # Number of epochs\n",
    "latent_dim = 256 # Number of LSTM cells\n",
    "num_samples = 2000 # Number of samples"
   ]
  },
  {
   "cell_type": "code",
   "execution_count": 3,
   "metadata": {
    "collapsed": true
   },
   "outputs": [],
   "source": [
    "input_texts = [] # List of Input(English sentences)\n",
    "target_texts = [] # List of Target(Hindi sentences)"
   ]
  },
  {
   "cell_type": "code",
   "execution_count": 4,
   "metadata": {
    "collapsed": true
   },
   "outputs": [],
   "source": [
    "input_chars = [] # List of unique english characters\n",
    "target_chars = [] # List of unique hindi characters"
   ]
  },
  {
   "cell_type": "code",
   "execution_count": 61,
   "metadata": {
    "collapsed": true
   },
   "outputs": [],
   "source": [
    "file_path = '/Users/arth/Desktop/nmt-hindi-english/hin-eng/eng-hin.txt' # Path to english hindi text file"
   ]
  },
  {
   "cell_type": "code",
   "execution_count": 62,
   "metadata": {},
   "outputs": [],
   "source": [
    "# reading file into lines\n",
    "with open(file_path, 'r', encoding='utf-8') as f:\n",
    "    lines = f.read().split('\\n')"
   ]
  },
  {
   "cell_type": "code",
   "execution_count": 65,
   "metadata": {},
   "outputs": [],
   "source": [
    "for line in lines[:min(num_samples, len(lines)-1)]:\n",
    "    input_text, target_text = line.split('\\t') # Splitting using tabspaces\n",
    "    target_text = '\\t' + target_text + '\\n' # Using \\n token to signify EOS \n",
    "    input_texts.append(input_text)\n",
    "    target_texts.append(target_text)\n",
    "    # Used to get unique characters\n",
    "    for char in input_text:\n",
    "        if char not in input_chars:\n",
    "            input_chars.append(char)\n",
    "    for char in target_text:\n",
    "        if char not in target_chars:\n",
    "            target_chars.append(char)"
   ]
  },
  {
   "cell_type": "code",
   "execution_count": 66,
   "metadata": {
    "collapsed": true
   },
   "outputs": [],
   "source": [
    "input_chars = sorted(input_chars)\n",
    "target_chars = sorted(target_chars) "
   ]
  },
  {
   "cell_type": "code",
   "execution_count": 67,
   "metadata": {},
   "outputs": [
    {
     "data": {
      "text/plain": [
       "(124, 123)"
      ]
     },
     "execution_count": 67,
     "metadata": {},
     "output_type": "execute_result"
    }
   ],
   "source": [
    "num_encoder_tokens = len(input_chars)\n",
    "num_decoder_tokens = len(target_chars)\n",
    "max_encoder_seq_length = max([len(seq) for seq in input_texts]) # Maximum sequence length for english sentences\n",
    "max_decoder_seq_length = max([len(seq) for seq in target_texts]) # Maximum sequence length for hindi sentences\n",
    "max_encoder_seq_length,max_decoder_seq_length"
   ]
  },
  {
   "cell_type": "code",
   "execution_count": 68,
   "metadata": {},
   "outputs": [],
   "source": [
    "# Mapping character tokens to indices\n",
    "input_token_index = dict( [(char, i) for i,char in enumerate(input_chars)])\n",
    "target_token_index = dict( [(char, i) for i,char in enumerate(target_chars)])"
   ]
  },
  {
   "cell_type": "code",
   "execution_count": 69,
   "metadata": {
    "collapsed": true
   },
   "outputs": [],
   "source": [
    "encoder_input_data = np.zeros((len(input_texts), max_encoder_seq_length, num_encoder_tokens), dtype= 'float32')\n",
    "decoder_input_data = np.zeros((len(target_texts), max_decoder_seq_length, num_decoder_tokens), dtype= 'float32')\n",
    "decoder_target_data = np.zeros((len(target_texts), max_decoder_seq_length, num_decoder_tokens), dtype= 'float32')"
   ]
  },
  {
   "cell_type": "code",
   "execution_count": 70,
   "metadata": {},
   "outputs": [],
   "source": [
    "# One-hot encoding input\n",
    "for i, input_text in enumerate(input_texts):\n",
    "    for j, ch in enumerate(input_text):\n",
    "        encoder_input_data[i,j,input_token_index[ch]] =1"
   ]
  },
  {
   "cell_type": "code",
   "execution_count": 71,
   "metadata": {
    "collapsed": true
   },
   "outputs": [],
   "source": [
    "# One-hot encoding output\n",
    "for i, target_text in enumerate(target_texts):\n",
    "    for j, ch in enumerate(target_text):\n",
    "        decoder_input_data[i,j,target_token_index[ch]] =1\n",
    "        if j>0:\n",
    "            decoder_target_data[i, j-1, target_token_index[ch]]=1"
   ]
  },
  {
   "cell_type": "code",
   "execution_count": 74,
   "metadata": {},
   "outputs": [],
   "source": [
    "# Defining Encoder model\n",
    "encoder_inputs = Input(shape=(None, num_encoder_tokens))\n",
    "encoder = LSTM(latent_dim, return_state = True)\n",
    "encoder_outputs, state_h, state_c = encoder(encoder_inputs)"
   ]
  },
  {
   "cell_type": "code",
   "execution_count": 75,
   "metadata": {
    "collapsed": true
   },
   "outputs": [],
   "source": [
    "encoder_states = [state_h, state_c]"
   ]
  },
  {
   "cell_type": "code",
   "execution_count": 76,
   "metadata": {},
   "outputs": [],
   "source": [
    "# Defining Decoder model\n",
    "decoder_inputs = Input(shape=(None, num_decoder_tokens))\n",
    "decoder_lstm = LSTM(latent_dim, return_state = True, return_sequences = True)\n",
    "decoder_outputs, _, _ = decoder_lstm(decoder_inputs, initial_state= encoder_states)\n",
    "decoder_dense = Dense(num_decoder_tokens, activation = 'softmax')\n",
    "decoder_outputs = decoder_dense(decoder_outputs)"
   ]
  },
  {
   "cell_type": "code",
   "execution_count": 77,
   "metadata": {
    "collapsed": true
   },
   "outputs": [],
   "source": [
    "model = Model([encoder_inputs, decoder_inputs], decoder_outputs)"
   ]
  },
  {
   "cell_type": "code",
   "execution_count": 78,
   "metadata": {
    "collapsed": true
   },
   "outputs": [],
   "source": [
    "model.compile(optimizer = 'rmsprop', loss= 'categorical_crossentropy')"
   ]
  },
  {
   "cell_type": "code",
   "execution_count": 81,
   "metadata": {},
   "outputs": [
    {
     "name": "stdout",
     "output_type": "stream",
     "text": [
      "Train on 7093 samples, validate on 1774 samples\n",
      "Epoch 1/1\n",
      "7093/7093 [==============================] - 144s 20ms/step - loss: 0.1089 - val_loss: 0.0825\n"
     ]
    }
   ],
   "source": [
    "history = model.fit([encoder_input_data,decoder_input_data], decoder_target_data, batch_size= batch_size, epochs=1, validation_split = 0.2)"
   ]
  },
  {
   "cell_type": "code",
   "execution_count": 82,
   "metadata": {},
   "outputs": [
    {
     "name": "stderr",
     "output_type": "stream",
     "text": [
      "/Library/Frameworks/Python.framework/Versions/3.6/lib/python3.6/site-packages/keras/engine/topology.py:2368: UserWarning: Layer lstm_4 was passed non-serializable keyword arguments: {'initial_state': [<tf.Tensor 'lstm_3/while/Exit_2:0' shape=(?, 256) dtype=float32>, <tf.Tensor 'lstm_3/while/Exit_3:0' shape=(?, 256) dtype=float32>]}. They will not be included in the serialized model (and thus will be missing at deserialization time).\n",
      "  str(node.arguments) + '. They will not be included '\n"
     ]
    }
   ],
   "source": [
    "model.save('eng-hin.h5')"
   ]
  },
  {
   "cell_type": "code",
   "execution_count": 83,
   "metadata": {
    "collapsed": true
   },
   "outputs": [],
   "source": [
    "# Defining inference model\n",
    "encoder_model = Model(encoder_inputs, encoder_states)\n",
    "\n",
    "decoder_state_input_h = Input(shape=(latent_dim,))\n",
    "decoder_state_input_c = Input(shape=(latent_dim,))\n",
    "decoder_states_inputs = [decoder_state_input_h, decoder_state_input_c]\n",
    "decoder_outputs, state_h, state_c = decoder_lstm(\n",
    "    decoder_inputs, initial_state=decoder_states_inputs)\n",
    "decoder_states = [state_h, state_c]\n",
    "decoder_outputs = decoder_dense(decoder_outputs)\n",
    "decoder_model = Model(\n",
    "    [decoder_inputs] + decoder_states_inputs,\n",
    "    [decoder_outputs] + decoder_states)\n",
    "\n",
    "# Reverse-lookup token index to decode sequences back to\n",
    "# something readable.\n",
    "reverse_input_char_index = dict(\n",
    "    (i, char) for char, i in input_token_index.items())\n",
    "reverse_target_char_index = dict(\n",
    "    (i, char) for char, i in target_token_index.items())"
   ]
  },
  {
   "cell_type": "code",
   "execution_count": 84,
   "metadata": {
    "collapsed": true
   },
   "outputs": [],
   "source": [
    "def decode_sequence(input_seq):\n",
    "    # Encode the input as state vectors.\n",
    "    states_value = encoder_model.predict(input_seq)\n",
    "\n",
    "    # Generate empty target sequence of length 1.\n",
    "    target_seq = np.zeros((1, 1, num_decoder_tokens))\n",
    "    # Populate the first character of target sequence with the start character.\n",
    "    target_seq[0, 0, target_token_index['\\t']] = 1.\n",
    "\n",
    "    # Sampling loop for a batch of sequences\n",
    "    # (to simplify, here we assume a batch of size 1).\n",
    "    stop_condition = False\n",
    "    decoded_sentence = ''\n",
    "    while not stop_condition:\n",
    "        output_tokens, h, c = decoder_model.predict(\n",
    "            [target_seq] + states_value)\n",
    "\n",
    "        # Sample a token\n",
    "        sampled_token_index = np.argmax(output_tokens[0, -1, :])\n",
    "        sampled_char = reverse_target_char_index[sampled_token_index]\n",
    "        decoded_sentence += sampled_char\n",
    "\n",
    "        # Exit condition: either hit max length\n",
    "        # or find stop character.\n",
    "        if (sampled_char == '\\n' or\n",
    "           len(decoded_sentence) > max_decoder_seq_length):\n",
    "            stop_condition = True\n",
    "\n",
    "        # Update the target sequence (of length 1).\n",
    "        target_seq = np.zeros((1, 1, num_decoder_tokens))\n",
    "        target_seq[0, 0, sampled_token_index] = 1.\n",
    "\n",
    "        # Update states\n",
    "        states_value = [h, c]\n",
    "\n",
    "    return decoded_sentence"
   ]
  },
  {
   "cell_type": "code",
   "execution_count": 96,
   "metadata": {},
   "outputs": [],
   "source": [
    "def make_inference(sentence):\n",
    "    input_data= np.zeros((len(input_texts), max_encoder_seq_length, num_encoder_tokens), dtype= 'float32')\n",
    "    for j, ch in enumerate(sentence):\n",
    "        input_data[1,j,input_token_index[ch]] =1\n",
    "    decoded_sentence = decode_sequence(input_data)\n",
    "    print('Input sentence:', sentence)\n",
    "    print('Translated sentence:', decoded_sentence)"
   ]
  },
  {
   "cell_type": "code",
   "execution_count": 97,
   "metadata": {},
   "outputs": [
    {
     "name": "stdout",
     "output_type": "stream",
     "text": [
      "Input sentence: Hello, How are you?\n",
      "Translated sentence: मुझे यहाँ पर अजनबी के जैसा महसूस है।\n",
      "\n"
     ]
    }
   ],
   "source": [
    "make_inference(\"Hello, How are you?\")"
   ]
  },
  {
   "cell_type": "code",
   "execution_count": 98,
   "metadata": {},
   "outputs": [
    {
     "name": "stdout",
     "output_type": "stream",
     "text": [
      "Input sentence: a\n",
      "Translated sentence: मुझे यहाँ पर अजनबी के जैसा महसूस है।\n",
      "\n"
     ]
    }
   ],
   "source": [
    "make_inference(\"a\")"
   ]
  },
  {
   "cell_type": "code",
   "execution_count": 100,
   "metadata": {},
   "outputs": [
    {
     "name": "stdout",
     "output_type": "stream",
     "text": [
      "-\n",
      "Input sentence: Wow!\n",
      "Decoded sentence: मेरे पापा को गर्मी के मौसम से नफ़रत है।\n",
      "\n",
      "-\n",
      "Input sentence: Help!\n",
      "Decoded sentence: हमने उसका हिसाब कुछ लीको का से हो।\n",
      "\n",
      "-\n",
      "Input sentence: Jump.\n",
      "Decoded sentence: वह किताब कहाँ है?\n",
      "\n",
      "-\n",
      "Input sentence: Jump.\n",
      "Decoded sentence: वह किताब कहाँ है?\n",
      "\n",
      "-\n",
      "Input sentence: Jump.\n",
      "Decoded sentence: वह किताब कहाँ है?\n",
      "\n",
      "-\n",
      "Input sentence: Hello!\n",
      "Decoded sentence: हमने उसका हिसाब कुछ लीको का से हो।\n",
      "\n",
      "-\n",
      "Input sentence: Hello!\n",
      "Decoded sentence: हमने उसका हिसाब कुछ लीको का से हो।\n",
      "\n",
      "-\n",
      "Input sentence: Cheers!\n",
      "Decoded sentence: हमने उसका जन्मदिन मनाया।\n",
      "\n",
      "-\n",
      "Input sentence: Cheers!\n",
      "Decoded sentence: हमने उसका जन्मदिन मनाया।\n",
      "\n",
      "-\n",
      "Input sentence: Got it?\n",
      "Decoded sentence: वह मेरे लिए बान नहीं पर्चास्स तुराने वादे मदं।\n",
      "\n",
      "-\n",
      "Input sentence: I'm OK.\n",
      "Decoded sentence: मैं तुम्हें एक बात की सलाह देता हूँ।\n",
      "\n",
      "-\n",
      "Input sentence: Awesome!\n",
      "Decoded sentence: मेरे पापा को गर्मी के मौसम से नफ़रत है।\n",
      "\n",
      "-\n",
      "Input sentence: Come in.\n",
      "Decoded sentence: मुझे यह काता से मौलिया था।\n",
      "\n",
      "-\n",
      "Input sentence: Get out!\n",
      "Decoded sentence: बच्चे परंग उड़ा योल आता।\n",
      "\n",
      "-\n",
      "Input sentence: Go away!\n",
      "Decoded sentence: मेरे पापा को गर्मी के मौसम से नफ़रत है।\n",
      "\n",
      "-\n",
      "Input sentence: Goodbye!\n",
      "Decoded sentence: हमने उसका जन्मदिन मनाया।\n",
      "\n",
      "-\n",
      "Input sentence: Perfect!\n",
      "Decoded sentence: हमने उसका हिसाब कुछ लीको का से हो।\n",
      "\n",
      "-\n",
      "Input sentence: Perfect!\n",
      "Decoded sentence: हमने उसका हिसाब कुछ लीको का से हो।\n",
      "\n",
      "-\n",
      "Input sentence: Welcome.\n",
      "Decoded sentence: मुझे यह काता से मौलिया था।\n",
      "\n",
      "-\n",
      "Input sentence: Welcome.\n",
      "Decoded sentence: मुझे यह काता से मौलिया था।\n",
      "\n",
      "-\n",
      "Input sentence: Have fun.\n",
      "Decoded sentence: यह मेरी का सात करना चाहिए।\n",
      "\n",
      "-\n",
      "Input sentence: Have fun.\n",
      "Decoded sentence: यह मेरी का सात करना चाहिए।\n",
      "\n",
      "-\n",
      "Input sentence: Have fun.\n",
      "Decoded sentence: यह मेरी का सात करना चाहिए।\n",
      "\n",
      "-\n",
      "Input sentence: I forgot.\n",
      "Decoded sentence: मैं तुम्हें एक बात की सलाह देता हूँ।\n",
      "\n",
      "-\n",
      "Input sentence: I forgot.\n",
      "Decoded sentence: मैं तुम्हें एक बात की सलाह देता हूँ।\n",
      "\n",
      "-\n",
      "Input sentence: I'll pay.\n",
      "Decoded sentence: मैं तुम्हें एक बात की सलाह देता हूँ।\n",
      "\n",
      "-\n",
      "Input sentence: I'm fine.\n",
      "Decoded sentence: मैं तुम्हें एक बात की सलाह देता हूँ।\n",
      "\n",
      "-\n",
      "Input sentence: I'm full.\n",
      "Decoded sentence: मैं तुम्हें एक बात की सलाह देता हूँ।\n",
      "\n",
      "-\n",
      "Input sentence: Let's go!\n",
      "Decoded sentence: मेरे पापा को गर्मी के मौसम से नफ़रत है।\n",
      "\n",
      "-\n",
      "Input sentence: Answer me.\n",
      "Decoded sentence: यह मेरी का सुतारा में है।\n",
      "\n",
      "-\n",
      "Input sentence: Birds fly.\n",
      "Decoded sentence: यह मेरी का सुतारा पर दा।\n",
      "\n",
      "-\n",
      "Input sentence: Excuse me.\n",
      "Decoded sentence: मैं तुम्हें एक बात की सलाह देता हूँ।\n",
      "\n",
      "-\n",
      "Input sentence: Fantastic!\n",
      "Decoded sentence: मेरे पापा को गर्मी के मौसम से नफ़रत है।\n",
      "\n",
      "-\n",
      "Input sentence: I fainted.\n",
      "Decoded sentence: मैं तुम्हें एक बात की सलाह देता हूँ।\n",
      "\n",
      "-\n",
      "Input sentence: I fear so.\n",
      "Decoded sentence: मैं तुम्हें एक बात की सलाह देता हूँ।\n",
      "\n",
      "-\n",
      "Input sentence: I laughed.\n",
      "Decoded sentence: मैं तुम्हें एक बात की सलाह देता हूँ।\n",
      "\n",
      "-\n",
      "Input sentence: I'm bored.\n",
      "Decoded sentence: मैं तुम्हें एक बात की सलाह देता हूँ।\n",
      "\n",
      "-\n",
      "Input sentence: I'm broke.\n",
      "Decoded sentence: मैं तुम्हें एक बात की सलाह देता हूँ।\n",
      "\n",
      "-\n",
      "Input sentence: I'm tired.\n",
      "Decoded sentence: मैं तुम्हें एक बात की सलाह देता हूँ।\n",
      "\n",
      "-\n",
      "Input sentence: It's cold.\n",
      "Decoded sentence: मुझे यह काता से मौलिया था।\n",
      "\n",
      "-\n",
      "Input sentence: Who knows?\n",
      "Decoded sentence: यह मेरी का सात करना चाहिए।\n",
      "\n",
      "-\n",
      "Input sentence: Who knows?\n",
      "Decoded sentence: यह मेरी का सात करना चाहिए।\n",
      "\n",
      "-\n",
      "Input sentence: Who knows?\n",
      "Decoded sentence: यह मेरी का सात करना चाहिए।\n",
      "\n",
      "-\n",
      "Input sentence: Who knows?\n",
      "Decoded sentence: यह मेरी का सात करना चाहिए।\n",
      "\n",
      "-\n",
      "Input sentence: Wonderful!\n",
      "Decoded sentence: हमने उसका जन्मदिन मनाया।\n",
      "\n",
      "-\n",
      "Input sentence: Birds sing.\n",
      "Decoded sentence: यह मेरी का कुत्ता है।\n",
      "\n",
      "-\n",
      "Input sentence: Come on in.\n",
      "Decoded sentence: मुझे यह काता से मौलिया।\n",
      "\n",
      "-\n",
      "Input sentence: Definitely!\n",
      "Decoded sentence: उसकी नीकी आँखें बहले से जाग लाया जाता है।\n",
      "\n",
      "-\n",
      "Input sentence: Don't move.\n",
      "Decoded sentence: यह मेरी की जातना भी नहीं है।\n",
      "\n",
      "-\n",
      "Input sentence: Fire burns.\n",
      "Decoded sentence: हम सब उसके मज़ाक पर हँसे।\n",
      "\n"
     ]
    }
   ],
   "source": [
    "for seq_index in range(50):\n",
    "    # Take one sequence (part of the training set)\n",
    "    # for trying out decoding.\n",
    "    input_seq = encoder_input_data[seq_index: seq_index + 1]\n",
    "    decoded_sentence = decode_sequence(input_seq)\n",
    "    print('-')\n",
    "    print('Input sentence:', input_texts[seq_index])\n",
    "    print('Decoded sentence:', decoded_sentence)"
   ]
  },
  {
   "cell_type": "code",
   "execution_count": null,
   "metadata": {
    "collapsed": true
   },
   "outputs": [],
   "source": []
  }
 ],
 "metadata": {
  "kernelspec": {
   "display_name": "Python 3",
   "language": "python",
   "name": "python3"
  },
  "language_info": {
   "codemirror_mode": {
    "name": "ipython",
    "version": 3
   },
   "file_extension": ".py",
   "mimetype": "text/x-python",
   "name": "python",
   "nbconvert_exporter": "python",
   "pygments_lexer": "ipython3",
   "version": "3.6.1"
  }
 },
 "nbformat": 4,
 "nbformat_minor": 2
}
